{
 "cells": [
  {
   "cell_type": "code",
   "execution_count": 1,
   "metadata": {},
   "outputs": [],
   "source": [
    "import pandas as pd  \n",
    "from sklearn.model_selection import train_test_split\n",
    "from sklearn.ensemble import RandomForestRegressor\n"
   ]
  },
  {
   "cell_type": "code",
   "execution_count": 35,
   "metadata": {},
   "outputs": [],
   "source": [
    "#READ\n",
    "\n",
    "#read data\n",
    "df = pd.read_csv(\"data.csv\")\n",
    "\n",
    "\n",
    "#select data\n",
    "selected = [\"Weapon\", \"Range\", \"DropOff\", \n",
    "            \"Zero Damage Range\", \"RPM\",\"Capacity\",\"ReloadSpeedFromEmpty(ms)\", \n",
    "            \"HeadshotMultiplier\", \"WeaponBonus\", \"MaxBonus%\", \"regularDMG\", \"minimumDMG\"]\n",
    "df = df[selected]\n",
    "#CLEAN\n",
    "\n",
    "#replacement\n",
    "df['ReloadSpeedFromEmpty(ms)'] = df['ReloadSpeedFromEmpty(ms)'].str.replace(\"-\", \"0\").astype(str)\n",
    "\n",
    "#Biased Weapon bonuses\n",
    "\"\"\"\n",
    "Health: Health Damage\n",
    "CHD: Critical Hit Damage\n",
    "HSD: Headshot Damage\n",
    "Armor: Armor Damage\n",
    "OOC: DMG To Target Out Of Cover\n",
    "CHC: Critical Hit Chance\n",
    "\n",
    "Personal preference towards Armor, HSD, CHD\n",
    "\n",
    "The weights are from 0-600. Increment by 100 so it doesn't get lost. I like Armor more than HSD, so 100 difference\n",
    "\"\"\"\n",
    "df[\"WeaponBonus\"] = df[\"WeaponBonus\"].str.replace(\"Health\", \"200\").astype(str)\n",
    "df[\"WeaponBonus\"] = df[\"WeaponBonus\"].str.replace(\"CHD\", \"400\").astype(str) \n",
    "df[\"WeaponBonus\"] = df[\"WeaponBonus\"].str.replace(\"HSD\", \"500\").astype(str) \n",
    "df[\"WeaponBonus\"] = df[\"WeaponBonus\"].str.replace(\"Armor\", \"600\").astype(str) \n",
    "df[\"WeaponBonus\"] = df[\"WeaponBonus\"].str.replace(\"OOC\", \"100\").astype(str)\n",
    "df[\"WeaponBonus\"] = df[\"WeaponBonus\"].str.replace(\"CHC\", \"300\").astype(str) \n",
    "df[\"WeaponBonus\"] = df[\"WeaponBonus\"].str.replace(\"-\", \"0\").astype(str)\n",
    "\n",
    "#bonus% fix\n",
    "df['MaxBonus%'] = df['MaxBonus%'].str.replace('%', '').astype(str)\n",
    "df['MaxBonus%'] = df['MaxBonus%'].str.replace('-', '0').astype(str)\n",
    "#headshot multiplier fix\n",
    "df['HeadshotMultiplier'] = df['HeadshotMultiplier'].str.replace('1 \\+ Bonus', '1',regex=True).astype(str)\n",
    "df['HeadshotMultiplier'] = df['HeadshotMultiplier'].str.replace('1\\+bonus', '1',regex=True).astype(str) #this also happens\n",
    "\n",
    "#type setting. (Just in case it needs to be done)\n",
    "df = df.astype({\"Weapon\": str, \"Range\": int, \"DropOff\": int, \n",
    "            \"Zero Damage Range\": int, \"RPM\": int,\"Capacity\": int,\"ReloadSpeedFromEmpty(ms)\": int, \n",
    "            \"HeadshotMultiplier\": float, \"WeaponBonus\": int, \"MaxBonus%\": int, \"regularDMG\": int, \"minimumDMG\": int})\n"
   ]
  },
  {
   "cell_type": "code",
   "execution_count": 30,
   "metadata": {},
   "outputs": [],
   "source": [
    "#dictionary of weights to be multiplied.\n",
    "#I am biasing high DMG, high RPM. \n",
    "\n",
    "#Biased against long reloads\n",
    "\n",
    "#bonus is liked, but not as much as others\n",
    "weights = {\n",
    "    \"highDMG\": 0.4,\n",
    "    \"RPM\": 0.3,\n",
    "    \"reload\": -0.1,\n",
    "    \"bonus\": 0.2,\n",
    "    \"wpnBonus\": 0.2\n",
    "}"
   ]
  },
  {
   "cell_type": "markdown",
   "metadata": {},
   "source": [
    "### Normalize, Multiply weights, score"
   ]
  },
  {
   "cell_type": "code",
   "execution_count": 31,
   "metadata": {},
   "outputs": [],
   "source": [
    "#NORMALIZE\n",
    "df[\"normDMG\"] = df[\"regularDMG\"] / df[\"regularDMG\"].max()\n",
    "df[\"normRPM\"] = df[\"RPM\"] / df[\"RPM\"].max()\n",
    "df[\"normReload\"] = df[\"ReloadSpeedFromEmpty(ms)\"] / df[\"ReloadSpeedFromEmpty(ms)\"].max()\n",
    "df[\"normMinDMG\"] = df[\"minimumDMG\"] / df[\"minimumDMG\"].max()\n",
    "df[\"normBonus\"] = df[\"MaxBonus%\"] / df[\"MaxBonus%\"].max()\n",
    "df[\"normWPN\"] = df[\"WeaponBonus\"] / df[\"WeaponBonus\"].max()\n",
    "\n"
   ]
  },
  {
   "cell_type": "code",
   "execution_count": 32,
   "metadata": {},
   "outputs": [],
   "source": [
    "#SCORE WEIGHTED\n",
    "\n",
    "#weights of the damage\n",
    "weightDMG = (weights[\"highDMG\"] * df[\"normDMG\"])\n",
    "\n",
    "#weight of the RPM and reload\n",
    "weightRPM = (weights[\"RPM\"] * df[\"normRPM\"]) + (weights[\"reload\"] * df[\"normReload\"])\n",
    "\n",
    "#weight of bonus\n",
    "weightBonus = (weights[\"bonus\"] * df[\"normBonus\"]) + (weights[\"wpnBonus\"] * df[\"normWPN\"])\n",
    "\n",
    "#total\n",
    "df[\"scored_weight\"] = weightDMG + weightRPM + weightBonus"
   ]
  },
  {
   "cell_type": "code",
   "execution_count": 33,
   "metadata": {
    "scrolled": false
   },
   "outputs": [
    {
     "name": "stdout",
     "output_type": "stream",
     "text": [
      "Weapon                       Nemesis\n",
      "Range                             60\n",
      "DropOff                           80\n",
      "Zero Damage Range                100\n",
      "RPM                               50\n",
      "Capacity                           5\n",
      "ReloadSpeedFromEmpty(ms)        3400\n",
      "HeadshotMultiplier               1.0\n",
      "WeaponBonus                      500\n",
      "MaxBonus%                        111\n",
      "regularDMG                    940240\n",
      "minimumDMG                    940240\n",
      "normDMG                          1.0\n",
      "normRPM                     0.041667\n",
      "normReload                       0.4\n",
      "normMinDMG                       1.0\n",
      "normBonus                   0.810219\n",
      "normWPN_Bonus               0.833333\n",
      "normWPN                     0.833333\n",
      "scored_weight                0.70121\n",
      "Name: 85, dtype: object\n",
      "Weapon                      The White Death - Classic M44 Carbine\n",
      "Range                                                          60\n",
      "DropOff                                                       100\n",
      "Zero Damage Range                                             100\n",
      "RPM                                                            55\n",
      "Capacity                                                        5\n",
      "ReloadSpeedFromEmpty(ms)                                     4400\n",
      "HeadshotMultiplier                                            1.0\n",
      "WeaponBonus                                                   500\n",
      "MaxBonus%                                                     137\n",
      "regularDMG                                                 423108\n",
      "minimumDMG                                                 164542\n",
      "normDMG                                                      0.45\n",
      "normRPM                                                  0.045833\n",
      "normReload                                               0.517647\n",
      "normMinDMG                                                  0.175\n",
      "normBonus                                                     1.0\n",
      "normWPN_Bonus                                            0.833333\n",
      "normWPN                                                  0.833333\n",
      "scored_weight                                            0.508652\n",
      "Name: 91, dtype: object\n",
      "Weapon                      Double Barrel Shotgun\n",
      "Range                                          11\n",
      "DropOff                                        18\n",
      "Zero Damage Range                              75\n",
      "RPM                                           200\n",
      "Capacity                                        2\n",
      "ReloadSpeedFromEmpty(ms)                     2500\n",
      "HeadshotMultiplier                           1.45\n",
      "WeaponBonus                                   600\n",
      "MaxBonus%                                      12\n",
      "regularDMG                                 620556\n",
      "minimumDMG                                 244462\n",
      "normDMG                                  0.659997\n",
      "normRPM                                  0.166667\n",
      "normReload                               0.294118\n",
      "normMinDMG                                   0.26\n",
      "normBonus                                0.087591\n",
      "normWPN_Bonus                                 1.0\n",
      "normWPN                                       1.0\n",
      "scored_weight                            0.502105\n",
      "Name: 200, dtype: object\n"
     ]
    }
   ],
   "source": [
    "first = df.sort_values(by=\"scored_weight\", ascending=False).iloc[0]\n",
    "second = df.sort_values(by=\"scored_weight\", ascending=False).iloc[1]\n",
    "third = df.sort_values(by=\"scored_weight\", ascending=False).iloc[2]\n",
    "\n",
    "print(first)\n",
    "print(second)\n",
    "print(third)"
   ]
  },
  {
   "cell_type": "code",
   "execution_count": null,
   "metadata": {},
   "outputs": [],
   "source": []
  }
 ],
 "metadata": {
  "kernelspec": {
   "display_name": "Python 3 (ipykernel)",
   "language": "python",
   "name": "python3"
  },
  "language_info": {
   "codemirror_mode": {
    "name": "ipython",
    "version": 3
   },
   "file_extension": ".py",
   "mimetype": "text/x-python",
   "name": "python",
   "nbconvert_exporter": "python",
   "pygments_lexer": "ipython3",
   "version": "3.9.13"
  }
 },
 "nbformat": 4,
 "nbformat_minor": 2
}
