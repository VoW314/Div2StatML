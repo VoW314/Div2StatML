{
 "cells": [
  {
   "cell_type": "code",
   "execution_count": 21,
   "metadata": {},
   "outputs": [],
   "source": [
    "import pandas as pd  \n",
    "from sklearn.model_selection import train_test_split\n",
    "from sklearn.ensemble import RandomForestRegressor\n"
   ]
  },
  {
   "cell_type": "code",
   "execution_count": 20,
   "metadata": {},
   "outputs": [],
   "source": [
    "#READ\n",
    "\n",
    "#read data\n",
    "df = pd.read_csv(\"data.csv\")\n",
    "\n",
    "#select data\n",
    "selected = [\"Weapon\", \"Range\", \"DropOff\", \n",
    "            \"Zero Damage Range\", \"RPM\",\"Capacity\", \"ReloadSpeed(ms)\",\"ReloadSpeedFromEmpty(ms)\", \n",
    "            \"HeadshotMultiplier\", \"WeaponBonus\", \"MaxBonus%\", \"regularDMG\", \"minimumDMG\"]\n",
    "df = df[selected]\n",
    "\n",
    "#CLEAN\n",
    "\n",
    "#replacement\n",
    "df[\"WeaponBonus\"] = df[\"WeaponBonus\"].str.replace(\"-\", \"No Bonus\").astype(str)\n",
    "\n",
    "df['MaxBonus%'] = df['MaxBonus%'].str.replace('%', '').astype(str)\n",
    "df['MaxBonus%'] = df['MaxBonus%'].str.replace('-', '0').astype(str)\n",
    "\n",
    "df['HeadshotMultiplier'] = df['HeadshotMultiplier'].str.replace('1 \\+ Bonus', '1',regex=True).astype(str)\n",
    "df['HeadshotMultiplier'] = df['HeadshotMultiplier'].str.replace('1\\+Bonus', '1',regex=True).astype(str) #this also happens\n",
    "#type setting. (Just in case it needs to be done)\n"
   ]
  },
  {
   "cell_type": "code",
   "execution_count": null,
   "metadata": {},
   "outputs": [],
   "source": [
    "df"
   ]
  },
  {
   "cell_type": "code",
   "execution_count": 23,
   "metadata": {},
   "outputs": [],
   "source": [
    "weights = {\n",
    "    \"regularDMG\": 0.4,\n",
    "    \n",
    "}"
   ]
  }
 ],
 "metadata": {
  "kernelspec": {
   "display_name": "Python 3 (ipykernel)",
   "language": "python",
   "name": "python3"
  },
  "language_info": {
   "codemirror_mode": {
    "name": "ipython",
    "version": 3
   },
   "file_extension": ".py",
   "mimetype": "text/x-python",
   "name": "python",
   "nbconvert_exporter": "python",
   "pygments_lexer": "ipython3",
   "version": "3.9.13"
  }
 },
 "nbformat": 4,
 "nbformat_minor": 2
}
