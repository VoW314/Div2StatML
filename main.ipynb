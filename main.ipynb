{
 "cells": [
  {
   "cell_type": "code",
   "execution_count": 1,
   "metadata": {},
   "outputs": [],
   "source": [
    "import pandas as pd  \n",
    "from sklearn.model_selection import train_test_split\n",
    "from sklearn.ensemble import RandomForestRegressor\n"
   ]
  },
  {
   "cell_type": "code",
   "execution_count": 2,
   "metadata": {},
   "outputs": [],
   "source": [
    "#READ\n",
    "\n",
    "#read data\n",
    "df = pd.read_csv(\"data.csv\")\n",
    "\n",
    "#select data\n",
    "selected = [\"Weapon\", \"Range\", \"DropOff\", \n",
    "            \"Zero Damage Range\", \"RPM\",\"Capacity\",\"ReloadSpeedFromEmpty(ms)\", \n",
    "            \"HeadshotMultiplier\", \"WeaponBonus\", \"MaxBonus%\", \"regularDMG\", \"minimumDMG\"]\n",
    "df = df[selected]\n",
    "\n",
    "#CLEAN\n",
    "\n",
    "#replacement\n",
    "df[\"WeaponBonus\"] = df[\"WeaponBonus\"].str.replace(\"-\", \"No Bonus\").astype(str)\n",
    "\n",
    "\n",
    "df['ReloadSpeedFromEmpty(ms)'] = df['ReloadSpeedFromEmpty(ms)'].str.replace(\"-\", \"0\").astype(str)\n",
    "\n",
    "\n",
    "df['MaxBonus%'] = df['MaxBonus%'].str.replace('%', '').astype(str)\n",
    "df['MaxBonus%'] = df['MaxBonus%'].str.replace('-', '0').astype(str)\n",
    "\n",
    "df['HeadshotMultiplier'] = df['HeadshotMultiplier'].str.replace('1 \\+ Bonus', '1',regex=True).astype(str)\n",
    "df['HeadshotMultiplier'] = df['HeadshotMultiplier'].str.replace('1\\+bonus', '1',regex=True).astype(str) #this also happens\n",
    "#type setting. (Just in case it needs to be done)\n",
    "\n",
    "df = df.astype({\"Weapon\": str, \"Range\": int, \"DropOff\": int, \n",
    "            \"Zero Damage Range\": int, \"RPM\": int,\"Capacity\": int,\"ReloadSpeedFromEmpty(ms)\": int, \n",
    "            \"HeadshotMultiplier\": float, \"WeaponBonus\": str, \"MaxBonus%\": int, \"regularDMG\": int, \"minimumDMG\": int})\n"
   ]
  },
  {
   "cell_type": "code",
   "execution_count": 3,
   "metadata": {},
   "outputs": [],
   "source": [
    "weights = {\n",
    "    \"regularDMG\": 0.4,\n",
    "    \"RPM\": 0.3,\n",
    "    \"ReloadSpeedFromEmpty(ms)\": -0.2,\n",
    "    \"HeadshotMultiplier\": 0.1,\n",
    "    \"minimumDMG\": -0.3,\n",
    "    \"MaxBonus%\": 0.3\n",
    "}"
   ]
  },
  {
   "cell_type": "code",
   "execution_count": null,
   "metadata": {},
   "outputs": [],
   "source": []
  }
 ],
 "metadata": {
  "kernelspec": {
   "display_name": "Python 3 (ipykernel)",
   "language": "python",
   "name": "python3"
  },
  "language_info": {
   "codemirror_mode": {
    "name": "ipython",
    "version": 3
   },
   "file_extension": ".py",
   "mimetype": "text/x-python",
   "name": "python",
   "nbconvert_exporter": "python",
   "pygments_lexer": "ipython3",
   "version": "3.9.13"
  }
 },
 "nbformat": 4,
 "nbformat_minor": 2
}
